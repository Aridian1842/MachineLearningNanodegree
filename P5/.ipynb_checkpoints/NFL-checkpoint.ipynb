{
 "cells": [
  {
   "cell_type": "markdown",
   "metadata": {},
   "source": [
    "# NFL"
   ]
  },
  {
   "cell_type": "markdown",
   "metadata": {},
   "source": [
    "https://www.spreadsheet-sports.com/free-tools/2013-nfl-play-play-data-excel/"
   ]
  },
  {
   "cell_type": "code",
   "execution_count": 74,
   "metadata": {
    "collapsed": true
   },
   "outputs": [],
   "source": [
    "import numpy as np\n",
    "import pandas as pd\n",
    "from __future__ import division\n",
    "from datetime import datetime\n",
    "\n",
    "# visualization\n",
    "import seaborn as sns\n",
    "import matplotlib.pyplot as plt\n",
    "plt.style.use('ggplot')\n",
    "%matplotlib inline"
   ]
  },
  {
   "cell_type": "code",
   "execution_count": 102,
   "metadata": {
    "collapsed": false
   },
   "outputs": [
    {
     "data": {
      "text/html": [
       "<div>\n",
       "<table border=\"1\" class=\"dataframe\">\n",
       "  <thead>\n",
       "    <tr style=\"text-align: right;\">\n",
       "      <th></th>\n",
       "      <th>Date</th>\n",
       "      <th>Tm</th>\n",
       "      <th>Opp</th>\n",
       "      <th>Quarter</th>\n",
       "      <th>Time</th>\n",
       "      <th>Down</th>\n",
       "      <th>ToGo</th>\n",
       "      <th>Side of Field</th>\n",
       "      <th>Yard Marker</th>\n",
       "      <th>Tm Score</th>\n",
       "      <th>...</th>\n",
       "      <th>Fantasy Points Rushing Yards</th>\n",
       "      <th>Fantasy Points Receiving Yards</th>\n",
       "      <th>Fantasy Points Receptions</th>\n",
       "      <th>Fantasy Points Rushing TD</th>\n",
       "      <th>Fantasy Points Receiving TD</th>\n",
       "      <th>Fantasy Points Playmaker Fumble</th>\n",
       "      <th>Fantasy Points Passer Yards</th>\n",
       "      <th>Fantasy Points Passer TD</th>\n",
       "      <th>Fantasy Points Passer Interception</th>\n",
       "      <th>Team Game #</th>\n",
       "    </tr>\n",
       "  </thead>\n",
       "  <tbody>\n",
       "    <tr>\n",
       "      <th>0</th>\n",
       "      <td>2014-09-08</td>\n",
       "      <td>Cardinals</td>\n",
       "      <td>Chargers</td>\n",
       "      <td>1</td>\n",
       "      <td>08:32:00</td>\n",
       "      <td>1</td>\n",
       "      <td>14</td>\n",
       "      <td>CRD</td>\n",
       "      <td>4</td>\n",
       "      <td>0</td>\n",
       "      <td>...</td>\n",
       "      <td>0.0</td>\n",
       "      <td>6.3</td>\n",
       "      <td>0.5</td>\n",
       "      <td>0</td>\n",
       "      <td>0</td>\n",
       "      <td>0</td>\n",
       "      <td>2.52</td>\n",
       "      <td>0</td>\n",
       "      <td>0</td>\n",
       "      <td>1</td>\n",
       "    </tr>\n",
       "    <tr>\n",
       "      <th>1</th>\n",
       "      <td>2014-09-07</td>\n",
       "      <td>Buccaneers</td>\n",
       "      <td>Panthers</td>\n",
       "      <td>1</td>\n",
       "      <td>03:39:00</td>\n",
       "      <td>1</td>\n",
       "      <td>10</td>\n",
       "      <td>TAM</td>\n",
       "      <td>4</td>\n",
       "      <td>0</td>\n",
       "      <td>...</td>\n",
       "      <td>5.4</td>\n",
       "      <td>0.0</td>\n",
       "      <td>0.0</td>\n",
       "      <td>0</td>\n",
       "      <td>0</td>\n",
       "      <td>0</td>\n",
       "      <td>0.00</td>\n",
       "      <td>0</td>\n",
       "      <td>0</td>\n",
       "      <td>1</td>\n",
       "    </tr>\n",
       "    <tr>\n",
       "      <th>2</th>\n",
       "      <td>2014-09-07</td>\n",
       "      <td>Browns</td>\n",
       "      <td>Steelers</td>\n",
       "      <td>1</td>\n",
       "      <td>08:19:00</td>\n",
       "      <td>1</td>\n",
       "      <td>10</td>\n",
       "      <td>CLE</td>\n",
       "      <td>36</td>\n",
       "      <td>0</td>\n",
       "      <td>...</td>\n",
       "      <td>0.0</td>\n",
       "      <td>4.7</td>\n",
       "      <td>0.5</td>\n",
       "      <td>0</td>\n",
       "      <td>0</td>\n",
       "      <td>0</td>\n",
       "      <td>1.88</td>\n",
       "      <td>0</td>\n",
       "      <td>0</td>\n",
       "      <td>1</td>\n",
       "    </tr>\n",
       "    <tr>\n",
       "      <th>3</th>\n",
       "      <td>2014-09-07</td>\n",
       "      <td>Jaguars</td>\n",
       "      <td>Eagles</td>\n",
       "      <td>1</td>\n",
       "      <td>01:27:00</td>\n",
       "      <td>1</td>\n",
       "      <td>10</td>\n",
       "      <td>JAX</td>\n",
       "      <td>1</td>\n",
       "      <td>14</td>\n",
       "      <td>...</td>\n",
       "      <td>0.0</td>\n",
       "      <td>4.6</td>\n",
       "      <td>0.5</td>\n",
       "      <td>0</td>\n",
       "      <td>0</td>\n",
       "      <td>0</td>\n",
       "      <td>1.84</td>\n",
       "      <td>0</td>\n",
       "      <td>0</td>\n",
       "      <td>1</td>\n",
       "    </tr>\n",
       "    <tr>\n",
       "      <th>4</th>\n",
       "      <td>2014-09-07</td>\n",
       "      <td>Bears</td>\n",
       "      <td>Bills</td>\n",
       "      <td>1</td>\n",
       "      <td>12:11:00</td>\n",
       "      <td>1</td>\n",
       "      <td>10</td>\n",
       "      <td>CHI</td>\n",
       "      <td>44</td>\n",
       "      <td>0</td>\n",
       "      <td>...</td>\n",
       "      <td>0.0</td>\n",
       "      <td>4.4</td>\n",
       "      <td>0.5</td>\n",
       "      <td>0</td>\n",
       "      <td>0</td>\n",
       "      <td>0</td>\n",
       "      <td>1.76</td>\n",
       "      <td>0</td>\n",
       "      <td>0</td>\n",
       "      <td>1</td>\n",
       "    </tr>\n",
       "  </tbody>\n",
       "</table>\n",
       "<p>5 rows × 68 columns</p>\n",
       "</div>"
      ],
      "text/plain": [
       "        Date          Tm       Opp  Quarter      Time  Down  ToGo  \\\n",
       "0 2014-09-08   Cardinals  Chargers        1  08:32:00     1    14   \n",
       "1 2014-09-07  Buccaneers  Panthers        1  03:39:00     1    10   \n",
       "2 2014-09-07      Browns  Steelers        1  08:19:00     1    10   \n",
       "3 2014-09-07     Jaguars    Eagles        1  01:27:00     1    10   \n",
       "4 2014-09-07       Bears     Bills        1  12:11:00     1    10   \n",
       "\n",
       "  Side of Field  Yard Marker  Tm Score     ...      \\\n",
       "0           CRD            4         0     ...       \n",
       "1           TAM            4         0     ...       \n",
       "2           CLE           36         0     ...       \n",
       "3           JAX            1        14     ...       \n",
       "4           CHI           44         0     ...       \n",
       "\n",
       "   Fantasy Points Rushing Yards  Fantasy Points Receiving Yards   \\\n",
       "0                            0.0                             6.3   \n",
       "1                            5.4                             0.0   \n",
       "2                            0.0                             4.7   \n",
       "3                            0.0                             4.6   \n",
       "4                            0.0                             4.4   \n",
       "\n",
       "   Fantasy Points Receptions  Fantasy Points Rushing TD   \\\n",
       "0                         0.5                          0   \n",
       "1                         0.0                          0   \n",
       "2                         0.5                          0   \n",
       "3                         0.5                          0   \n",
       "4                         0.5                          0   \n",
       "\n",
       "  Fantasy Points Receiving TD  Fantasy Points Playmaker Fumble  \\\n",
       "0                            0                               0   \n",
       "1                            0                               0   \n",
       "2                            0                               0   \n",
       "3                            0                               0   \n",
       "4                            0                               0   \n",
       "\n",
       "  Fantasy Points Passer Yards  Fantasy Points Passer TD   \\\n",
       "0                         2.52                         0   \n",
       "1                         0.00                         0   \n",
       "2                         1.88                         0   \n",
       "3                         1.84                         0   \n",
       "4                         1.76                         0   \n",
       "\n",
       "   Fantasy Points Passer Interception  Team Game #  \n",
       "0                                    0           1  \n",
       "1                                    0           1  \n",
       "2                                    0           1  \n",
       "3                                    0           1  \n",
       "4                                    0           1  \n",
       "\n",
       "[5 rows x 68 columns]"
      ]
     },
     "execution_count": 102,
     "metadata": {},
     "output_type": "execute_result"
    }
   ],
   "source": [
    "dat = pd.read_excel('data/2014 NFL Play-by-Play Data.xlsx')\n",
    "dat.head()"
   ]
  },
  {
   "cell_type": "code",
   "execution_count": 139,
   "metadata": {
    "collapsed": false
   },
   "outputs": [],
   "source": [
    "def preprocess_features(X):\n",
    "    outX = pd.DataFrame(index=X.index)\n",
    "\n",
    "    for col, col_data in X.iteritems():\n",
    "        teams = pd.get_dummies(col_data, prefix = col)\n",
    "        outX = outX.join(teams)\n",
    "    return outX\n",
    "\n",
    "new_dat = preprocess_features(dat[['Tm', 'Opp']])"
   ]
  },
  {
   "cell_type": "code",
   "execution_count": 104,
   "metadata": {
    "collapsed": true
   },
   "outputs": [],
   "source": [
    "# Separate Minute and Second into separate columns - pandas read it in as hour minute so it looks weird \n",
    "dat['Minute'] = dat.Time.map(lambda x: x.hour)\n",
    "dat['Second'] = dat.Time.map(lambda x: x.minute)"
   ]
  },
  {
   "cell_type": "code",
   "execution_count": 177,
   "metadata": {
    "collapsed": false
   },
   "outputs": [],
   "source": [
    "# Create new column for what I am trying to predict\n",
    "def results(play):\n",
    "    play_type, turnover = play\n",
    "    if turnover == 1:\n",
    "        return 'Turnover'\n",
    "    else:\n",
    "        return play_type\n",
    "    \n",
    "dat['Play Result'] = dat[['Play Type', 'Turnover']].apply(results, axis = 1)"
   ]
  },
  {
   "cell_type": "code",
   "execution_count": 179,
   "metadata": {
    "collapsed": false,
    "scrolled": true
   },
   "outputs": [],
   "source": [
    "# Create My X and y for classification\n",
    "X = dat[['Quarter', 'Minute', 'Second', 'Down', 'ToGo', 'Yard Line','Tm Score', 'Opp Score']]\n",
    "X = X.join(new_dat)\n",
    "X = X.values\n",
    "y = dat['Play Result'].values"
   ]
  },
  {
   "cell_type": "code",
   "execution_count": 180,
   "metadata": {
    "collapsed": false
   },
   "outputs": [
    {
     "data": {
      "text/plain": [
       "array([u'Pass', u'Run', u'Sack', 'Turnover'], dtype=object)"
      ]
     },
     "execution_count": 180,
     "metadata": {},
     "output_type": "execute_result"
    }
   ],
   "source": [
    "from sklearn.preprocessing import LabelEncoder\n",
    "\n",
    "le = LabelEncoder()\n",
    "le.fit_transform(y)\n",
    "le.classes_"
   ]
  },
  {
   "cell_type": "code",
   "execution_count": 181,
   "metadata": {
    "collapsed": true
   },
   "outputs": [],
   "source": [
    "from sklearn.cross_validation import train_test_split\n",
    "\n",
    "X_train, X_test, y_train, y_test = train_test_split(X, y, test_size = 0.25, random_state = 100)"
   ]
  },
  {
   "cell_type": "code",
   "execution_count": 182,
   "metadata": {
    "collapsed": false
   },
   "outputs": [
    {
     "data": {
      "text/plain": [
       "OneVsRestClassifier(estimator=SVC(C=1.0, cache_size=200, class_weight=None, coef0=0.0, degree=3, gamma=0.0,\n",
       "  kernel='rbf', max_iter=-1, probability=False, random_state=None,\n",
       "  shrinking=True, tol=0.001, verbose=False),\n",
       "          n_jobs=1)"
      ]
     },
     "execution_count": 182,
     "metadata": {},
     "output_type": "execute_result"
    }
   ],
   "source": [
    "from sklearn.svm import SVC\n",
    "from sklearn.multiclass import OneVsRestClassifier\n",
    "\n",
    "clf = OneVsRestClassifier(SVC())\n",
    "\n",
    "clf.fit(X_train, y_train)"
   ]
  },
  {
   "cell_type": "code",
   "execution_count": 183,
   "metadata": {
    "collapsed": false
   },
   "outputs": [
    {
     "data": {
      "text/plain": [
       "0.5950413223140496"
      ]
     },
     "execution_count": 183,
     "metadata": {},
     "output_type": "execute_result"
    }
   ],
   "source": [
    "clf.score(X_test, y_test)"
   ]
  },
  {
   "cell_type": "code",
   "execution_count": null,
   "metadata": {
    "collapsed": true
   },
   "outputs": [],
   "source": [
    "Pass, complete, incomplete, run, sack, TD, interception, fumble,"
   ]
  },
  {
   "cell_type": "code",
   "execution_count": null,
   "metadata": {
    "collapsed": false
   },
   "outputs": [],
   "source": []
  },
  {
   "cell_type": "code",
   "execution_count": null,
   "metadata": {
    "collapsed": true
   },
   "outputs": [],
   "source": []
  }
 ],
 "metadata": {
  "kernelspec": {
   "display_name": "Python 2",
   "language": "python",
   "name": "python2"
  },
  "language_info": {
   "codemirror_mode": {
    "name": "ipython",
    "version": 2
   },
   "file_extension": ".py",
   "mimetype": "text/x-python",
   "name": "python",
   "nbconvert_exporter": "python",
   "pygments_lexer": "ipython2",
   "version": "2.7.10"
  }
 },
 "nbformat": 4,
 "nbformat_minor": 0
}
